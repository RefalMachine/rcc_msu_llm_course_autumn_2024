{
  "nbformat": 4,
  "nbformat_minor": 0,
  "metadata": {
    "colab": {
      "provenance": []
    },
    "kernelspec": {
      "name": "python3",
      "display_name": "Python 3"
    },
    "language_info": {
      "name": "python"
    }
  },
  "cells": [
    {
      "cell_type": "code",
      "execution_count": 1,
      "metadata": {
        "colab": {
          "base_uri": "https://localhost:8080/"
        },
        "id": "ledSszArsuya",
        "outputId": "6271059a-39d8-4c90-c958-bf65f38bbba9"
      },
      "outputs": [
        {
          "output_type": "stream",
          "name": "stdout",
          "text": [
            "Collecting transformers==4.45.2\n",
            "  Downloading transformers-4.45.2-py3-none-any.whl.metadata (44 kB)\n",
            "\u001b[?25l     \u001b[90m━━━━━━━━━━━━━━━━━━━━━━━━━━━━━━━━━━━━━━━━\u001b[0m \u001b[32m0.0/44.4 kB\u001b[0m \u001b[31m?\u001b[0m eta \u001b[36m-:--:--\u001b[0m\r\u001b[2K     \u001b[90m━━━━━━━━━━━━━━━━━━━━━━━━━━━━━━━━━━━━━━━━\u001b[0m \u001b[32m44.4/44.4 kB\u001b[0m \u001b[31m1.6 MB/s\u001b[0m eta \u001b[36m0:00:00\u001b[0m\n",
            "\u001b[?25hRequirement already satisfied: filelock in /usr/local/lib/python3.10/dist-packages (from transformers==4.45.2) (3.16.1)\n",
            "Requirement already satisfied: huggingface-hub<1.0,>=0.23.2 in /usr/local/lib/python3.10/dist-packages (from transformers==4.45.2) (0.24.7)\n",
            "Requirement already satisfied: numpy>=1.17 in /usr/local/lib/python3.10/dist-packages (from transformers==4.45.2) (1.26.4)\n",
            "Requirement already satisfied: packaging>=20.0 in /usr/local/lib/python3.10/dist-packages (from transformers==4.45.2) (24.1)\n",
            "Requirement already satisfied: pyyaml>=5.1 in /usr/local/lib/python3.10/dist-packages (from transformers==4.45.2) (6.0.2)\n",
            "Requirement already satisfied: regex!=2019.12.17 in /usr/local/lib/python3.10/dist-packages (from transformers==4.45.2) (2024.9.11)\n",
            "Requirement already satisfied: requests in /usr/local/lib/python3.10/dist-packages (from transformers==4.45.2) (2.32.3)\n",
            "Requirement already satisfied: safetensors>=0.4.1 in /usr/local/lib/python3.10/dist-packages (from transformers==4.45.2) (0.4.5)\n",
            "Collecting tokenizers<0.21,>=0.20 (from transformers==4.45.2)\n",
            "  Downloading tokenizers-0.20.1-cp310-cp310-manylinux_2_17_x86_64.manylinux2014_x86_64.whl.metadata (6.7 kB)\n",
            "Requirement already satisfied: tqdm>=4.27 in /usr/local/lib/python3.10/dist-packages (from transformers==4.45.2) (4.66.5)\n",
            "Requirement already satisfied: fsspec>=2023.5.0 in /usr/local/lib/python3.10/dist-packages (from huggingface-hub<1.0,>=0.23.2->transformers==4.45.2) (2024.6.1)\n",
            "Requirement already satisfied: typing-extensions>=3.7.4.3 in /usr/local/lib/python3.10/dist-packages (from huggingface-hub<1.0,>=0.23.2->transformers==4.45.2) (4.12.2)\n",
            "Requirement already satisfied: charset-normalizer<4,>=2 in /usr/local/lib/python3.10/dist-packages (from requests->transformers==4.45.2) (3.4.0)\n",
            "Requirement already satisfied: idna<4,>=2.5 in /usr/local/lib/python3.10/dist-packages (from requests->transformers==4.45.2) (3.10)\n",
            "Requirement already satisfied: urllib3<3,>=1.21.1 in /usr/local/lib/python3.10/dist-packages (from requests->transformers==4.45.2) (2.2.3)\n",
            "Requirement already satisfied: certifi>=2017.4.17 in /usr/local/lib/python3.10/dist-packages (from requests->transformers==4.45.2) (2024.8.30)\n",
            "Downloading transformers-4.45.2-py3-none-any.whl (9.9 MB)\n",
            "\u001b[2K   \u001b[90m━━━━━━━━━━━━━━━━━━━━━━━━━━━━━━━━━━━━━━━━\u001b[0m \u001b[32m9.9/9.9 MB\u001b[0m \u001b[31m29.2 MB/s\u001b[0m eta \u001b[36m0:00:00\u001b[0m\n",
            "\u001b[?25hDownloading tokenizers-0.20.1-cp310-cp310-manylinux_2_17_x86_64.manylinux2014_x86_64.whl (3.0 MB)\n",
            "\u001b[2K   \u001b[90m━━━━━━━━━━━━━━━━━━━━━━━━━━━━━━━━━━━━━━━━\u001b[0m \u001b[32m3.0/3.0 MB\u001b[0m \u001b[31m22.7 MB/s\u001b[0m eta \u001b[36m0:00:00\u001b[0m\n",
            "\u001b[?25hInstalling collected packages: tokenizers, transformers\n",
            "  Attempting uninstall: tokenizers\n",
            "    Found existing installation: tokenizers 0.19.1\n",
            "    Uninstalling tokenizers-0.19.1:\n",
            "      Successfully uninstalled tokenizers-0.19.1\n",
            "  Attempting uninstall: transformers\n",
            "    Found existing installation: transformers 4.44.2\n",
            "    Uninstalling transformers-4.44.2:\n",
            "      Successfully uninstalled transformers-4.44.2\n",
            "Successfully installed tokenizers-0.20.1 transformers-4.45.2\n"
          ]
        }
      ],
      "source": [
        "!pip install transformers==4.45.2"
      ]
    },
    {
      "cell_type": "code",
      "source": [
        "from transformers import AutoTokenizer, AutoModelForCausalLM, AutoConfig\n",
        "\n",
        "model_name_or_path = 'openchat/openchat-3.5-1210'\n",
        "tokenizer = AutoTokenizer.from_pretrained(model_name_or_path)"
      ],
      "metadata": {
        "id": "QM5hP_bUs2B9"
      },
      "execution_count": 49,
      "outputs": []
    },
    {
      "cell_type": "code",
      "source": [
        "import json\n",
        "tokenizer_json = json.loads(tokenizer._tokenizer.to_str())\n",
        "tokenizer_json['model'].keys()"
      ],
      "metadata": {
        "colab": {
          "base_uri": "https://localhost:8080/"
        },
        "id": "KpnMviLdu0gA",
        "outputId": "ceb2c361-e573-4a1f-fced-ea7deab06d10"
      },
      "execution_count": 50,
      "outputs": [
        {
          "output_type": "execute_result",
          "data": {
            "text/plain": [
              "dict_keys(['type', 'dropout', 'unk_token', 'continuing_subword_prefix', 'end_of_word_suffix', 'fuse_unk', 'byte_fallback', 'ignore_merges', 'vocab', 'merges'])"
            ]
          },
          "metadata": {},
          "execution_count": 50
        }
      ]
    },
    {
      "cell_type": "code",
      "source": [
        "list(tokenizer_json['model']['vocab'].items())[250:270]"
      ],
      "metadata": {
        "colab": {
          "base_uri": "https://localhost:8080/"
        },
        "id": "XYP54HFuu9BQ",
        "outputId": "4f9b796c-8561-4389-e964-fbf69d3bcff9"
      },
      "execution_count": 51,
      "outputs": [
        {
          "output_type": "execute_result",
          "data": {
            "text/plain": [
              "[('<0xF7>', 250),\n",
              " ('<0xF8>', 251),\n",
              " ('<0xF9>', 252),\n",
              " ('<0xFA>', 253),\n",
              " ('<0xFB>', 254),\n",
              " ('<0xFC>', 255),\n",
              " ('<0xFD>', 256),\n",
              " ('<0xFE>', 257),\n",
              " ('<0xFF>', 258),\n",
              " ('▁▁', 259),\n",
              " ('▁▁▁▁', 260),\n",
              " ('▁t', 261),\n",
              " ('in', 262),\n",
              " ('er', 263),\n",
              " ('▁a', 264),\n",
              " ('he', 265),\n",
              " ('on', 266),\n",
              " ('re', 267),\n",
              " ('▁s', 268),\n",
              " ('en', 269)]"
            ]
          },
          "metadata": {},
          "execution_count": 51
        }
      ]
    },
    {
      "cell_type": "code",
      "source": [
        "tokenizer_json['model']['merges'][:20]"
      ],
      "metadata": {
        "colab": {
          "base_uri": "https://localhost:8080/"
        },
        "id": "P46SAJH_vT8v",
        "outputId": "d39e2a91-86f6-4273-a9d4-d1ca6e55b259"
      },
      "execution_count": 52,
      "outputs": [
        {
          "output_type": "execute_result",
          "data": {
            "text/plain": [
              "[['▁', 't'],\n",
              " ['i', 'n'],\n",
              " ['e', 'r'],\n",
              " ['▁', 'a'],\n",
              " ['h', 'e'],\n",
              " ['o', 'n'],\n",
              " ['r', 'e'],\n",
              " ['▁', 's'],\n",
              " ['e', 'n'],\n",
              " ['a', 't'],\n",
              " ['o', 'r'],\n",
              " ['▁t', 'he'],\n",
              " ['▁th', 'e'],\n",
              " ['▁', 'the'],\n",
              " ['e', 's'],\n",
              " ['▁', 'w'],\n",
              " ['a', 'n'],\n",
              " ['▁', 'c'],\n",
              " ['i', 's'],\n",
              " ['i', 't']]"
            ]
          },
          "metadata": {},
          "execution_count": 52
        }
      ]
    },
    {
      "cell_type": "code",
      "source": [
        "tokenizer('Large 1Large')['input_ids']"
      ],
      "metadata": {
        "colab": {
          "base_uri": "https://localhost:8080/"
        },
        "id": "WHfpQIWIzTiQ",
        "outputId": "31883772-205f-47f4-c4ad-4420e70390d4"
      },
      "execution_count": 56,
      "outputs": [
        {
          "output_type": "execute_result",
          "data": {
            "text/plain": [
              "[1, 23292, 28705, 28740, 27408]"
            ]
          },
          "metadata": {},
          "execution_count": 56
        }
      ]
    },
    {
      "cell_type": "markdown",
      "source": [
        "## Токенизаторы на sentencepiece принудительно добавляют пробел"
      ],
      "metadata": {
        "id": "dlLPJylEz4C_"
      }
    },
    {
      "cell_type": "code",
      "source": [
        "tokenizer.convert_ids_to_tokens(tokenizer('Large 1Large')['input_ids'])"
      ],
      "metadata": {
        "colab": {
          "base_uri": "https://localhost:8080/"
        },
        "id": "lXzB4ow7zXkk",
        "outputId": "3f5fc04a-fdf6-478b-d897-6a44c66ad945"
      },
      "execution_count": 57,
      "outputs": [
        {
          "output_type": "execute_result",
          "data": {
            "text/plain": [
              "['<s>', '▁Large', '▁', '1', 'Large']"
            ]
          },
          "metadata": {},
          "execution_count": 57
        }
      ]
    },
    {
      "cell_type": "code",
      "source": [
        "tokenizer.convert_ids_to_tokens(tokenizer('Large 1Large', add_special_tokens=False)['input_ids'])"
      ],
      "metadata": {
        "colab": {
          "base_uri": "https://localhost:8080/"
        },
        "id": "PjElxt10zr3l",
        "outputId": "138ebcb8-12d6-4195-dbb0-aef1d8a6b65f"
      },
      "execution_count": 58,
      "outputs": [
        {
          "output_type": "execute_result",
          "data": {
            "text/plain": [
              "['▁Large', '▁', '1', 'Large']"
            ]
          },
          "metadata": {},
          "execution_count": 58
        }
      ]
    },
    {
      "cell_type": "markdown",
      "source": [
        "## Tiktoken based"
      ],
      "metadata": {
        "id": "vSPmOzop0BBB"
      }
    },
    {
      "cell_type": "code",
      "source": [
        "model_name_or_path = 'Qwen/Qwen2.5-3B'\n",
        "tokenizer = AutoTokenizer.from_pretrained(model_name_or_path)"
      ],
      "metadata": {
        "id": "N_G3l1layx2W"
      },
      "execution_count": 62,
      "outputs": []
    },
    {
      "cell_type": "code",
      "source": [
        "tokenizer_json = json.loads(tokenizer._tokenizer.to_str())\n",
        "tokenizer_json['model'].keys()"
      ],
      "metadata": {
        "colab": {
          "base_uri": "https://localhost:8080/"
        },
        "id": "qqP_Ve3uy5EP",
        "outputId": "f7fe504f-6ad9-4f99-c093-1624161e9f4c"
      },
      "execution_count": 63,
      "outputs": [
        {
          "output_type": "execute_result",
          "data": {
            "text/plain": [
              "dict_keys(['type', 'dropout', 'unk_token', 'continuing_subword_prefix', 'end_of_word_suffix', 'fuse_unk', 'byte_fallback', 'ignore_merges', 'vocab', 'merges'])"
            ]
          },
          "metadata": {},
          "execution_count": 63
        }
      ]
    },
    {
      "cell_type": "code",
      "source": [
        "list(tokenizer_json['model']['vocab'].items())[130000:130020]"
      ],
      "metadata": {
        "colab": {
          "base_uri": "https://localhost:8080/"
        },
        "id": "eDo_kuqJy5QO",
        "outputId": "2ec7bafa-79ec-4522-95c8-b71bb2953365"
      },
      "execution_count": 64,
      "outputs": [
        {
          "output_type": "execute_result",
          "data": {
            "text/plain": [
              "[('ìĺ¨', 130000),\n",
              " ('à¸ĸà¹Īà¸²à¸¢', 130001),\n",
              " ('ĠkullanÄ±l', 130002),\n",
              " ('ĠtÃ´', 130003),\n",
              " ('ãģ«ãĤĪãĤĬ', 130004),\n",
              " ('ĠëĺĲíķľ', 130005),\n",
              " ('Ġ×¢×ĳ×ķ×ĵ×Ķ', 130006),\n",
              " ('ĠriÃª', 130007),\n",
              " ('ĠriÃªng', 130008),\n",
              " ('ĠyakÄ±n', 130009),\n",
              " ('Ø²Ø§', 130010),\n",
              " ('Å»', 130011),\n",
              " ('×Ĳ×ķ×Ľ×ľ', 130012),\n",
              " ('Ø´Ø§Ø±Ùĥ', 130013),\n",
              " ('ĠÐ±ÐµÑģ', 130014),\n",
              " ('×´', 130015),\n",
              " ('ĠØ§Ø¨ÙĨ', 130016),\n",
              " ('ĠTá»ķng', 130017),\n",
              " ('ÙĨØ¸', 130018),\n",
              " ('ÅĽwiad', 130019)]"
            ]
          },
          "metadata": {},
          "execution_count": 64
        }
      ]
    },
    {
      "cell_type": "code",
      "source": [
        "tokenizer_json['model']['merges'][:20]"
      ],
      "metadata": {
        "colab": {
          "base_uri": "https://localhost:8080/"
        },
        "id": "IGy7FOy_y67K",
        "outputId": "a1cd2158-3a9f-4bed-baac-32570e4796f7"
      },
      "execution_count": 65,
      "outputs": [
        {
          "output_type": "execute_result",
          "data": {
            "text/plain": [
              "[['Ġ', 'Ġ'],\n",
              " ['ĠĠ', 'ĠĠ'],\n",
              " ['i', 'n'],\n",
              " ['Ġ', 't'],\n",
              " ['ĠĠĠĠ', 'ĠĠĠĠ'],\n",
              " ['e', 'r'],\n",
              " ['ĠĠ', 'Ġ'],\n",
              " ['o', 'n'],\n",
              " ['Ġ', 'a'],\n",
              " ['r', 'e'],\n",
              " ['a', 't'],\n",
              " ['s', 't'],\n",
              " ['e', 'n'],\n",
              " ['o', 'r'],\n",
              " ['Ġt', 'h'],\n",
              " ['Ċ', 'Ċ'],\n",
              " ['Ġ', 'c'],\n",
              " ['l', 'e'],\n",
              " ['Ġ', 's'],\n",
              " ['i', 't']]"
            ]
          },
          "metadata": {},
          "execution_count": 65
        }
      ]
    },
    {
      "cell_type": "code",
      "source": [
        "from transformers.models.gpt2.tokenization_gpt2 import bytes_to_unicode\n",
        "from typing import Dict, Optional\n",
        "\n",
        "byte_encoder = bytes_to_unicode()\n",
        "\n",
        "def token_bytes_to_string(b):\n",
        "  return ''.join([byte_encoder[ord(char)] for char in b.decode('latin-1')])\n",
        "\n",
        "token_bytes_to_string(' Пр'.encode())"
      ],
      "metadata": {
        "colab": {
          "base_uri": "https://localhost:8080/",
          "height": 35
        },
        "id": "tdbqFTDYzJ6v",
        "outputId": "8d4e18ac-ed74-450d-c96a-d44f907cdeb8"
      },
      "execution_count": 72,
      "outputs": [
        {
          "output_type": "execute_result",
          "data": {
            "text/plain": [
              "'ĠÐŁÑĢ'"
            ],
            "application/vnd.google.colaboratory.intrinsic+json": {
              "type": "string"
            }
          },
          "metadata": {},
          "execution_count": 72
        }
      ]
    },
    {
      "cell_type": "code",
      "source": [
        "tokenizer_json['model']['vocab'][token_bytes_to_string(' Пр'.encode())]"
      ],
      "metadata": {
        "colab": {
          "base_uri": "https://localhost:8080/"
        },
        "id": "i7UZEehW4B07",
        "outputId": "ed3fa841-cc52-4490-febc-fa58458218ac"
      },
      "execution_count": 73,
      "outputs": [
        {
          "output_type": "execute_result",
          "data": {
            "text/plain": [
              "79484"
            ]
          },
          "metadata": {},
          "execution_count": 73
        }
      ]
    },
    {
      "cell_type": "code",
      "source": [
        "tokenizer(' Пр')['input_ids']"
      ],
      "metadata": {
        "colab": {
          "base_uri": "https://localhost:8080/"
        },
        "id": "lyZilMWy4Imr",
        "outputId": "71c66fc2-6bba-4e2b-c0ac-4f1925fc3ea3"
      },
      "execution_count": 75,
      "outputs": [
        {
          "output_type": "execute_result",
          "data": {
            "text/plain": [
              "[79484]"
            ]
          },
          "metadata": {},
          "execution_count": 75
        }
      ]
    },
    {
      "cell_type": "code",
      "source": [
        "some_token = token_bytes_to_string(' Пр'.encode())\n",
        "tokenizer.convert_tokens_to_string([some_token])"
      ],
      "metadata": {
        "colab": {
          "base_uri": "https://localhost:8080/",
          "height": 35
        },
        "id": "rojooOZq3vaK",
        "outputId": "45e199b8-7e7f-445c-be83-0be9e00e9f47"
      },
      "execution_count": 83,
      "outputs": [
        {
          "output_type": "execute_result",
          "data": {
            "text/plain": [
              "' Пр'"
            ],
            "application/vnd.google.colaboratory.intrinsic+json": {
              "type": "string"
            }
          },
          "metadata": {},
          "execution_count": 83
        }
      ]
    },
    {
      "cell_type": "code",
      "source": [
        "tokenizer.decoder.decode(['ĠÐŁÑĢ'])"
      ],
      "metadata": {
        "colab": {
          "base_uri": "https://localhost:8080/",
          "height": 35
        },
        "id": "WzVeT1S53yt8",
        "outputId": "9864d5d8-a146-407b-ac37-938acf02a6a9"
      },
      "execution_count": 84,
      "outputs": [
        {
          "output_type": "execute_result",
          "data": {
            "text/plain": [
              "' Пр'"
            ],
            "application/vnd.google.colaboratory.intrinsic+json": {
              "type": "string"
            }
          },
          "metadata": {},
          "execution_count": 84
        }
      ]
    },
    {
      "cell_type": "markdown",
      "source": [
        "### Не все токены словаря имеют разумное представление в utf-8 кодировке"
      ],
      "metadata": {
        "id": "vShYXVyq4vmB"
      }
    },
    {
      "cell_type": "code",
      "source": [
        "\n",
        "for token, token_id in list(tokenizer_json['model']['vocab'].items())[:256]:\n",
        "    print(token, tokenizer.convert_tokens_to_string([token]))"
      ],
      "metadata": {
        "colab": {
          "base_uri": "https://localhost:8080/"
        },
        "id": "76qG1ZnQ4Wua",
        "outputId": "c8865855-da95-4937-f524-69b24b2eae9e"
      },
      "execution_count": 90,
      "outputs": [
        {
          "output_type": "stream",
          "name": "stdout",
          "text": [
            "! !\n",
            "\" \"\n",
            "# #\n",
            "$ $\n",
            "% %\n",
            "& &\n",
            "' '\n",
            "( (\n",
            ") )\n",
            "* *\n",
            "+ +\n",
            ", ,\n",
            "- -\n",
            ". .\n",
            "/ /\n",
            "0 0\n",
            "1 1\n",
            "2 2\n",
            "3 3\n",
            "4 4\n",
            "5 5\n",
            "6 6\n",
            "7 7\n",
            "8 8\n",
            "9 9\n",
            ": :\n",
            "; ;\n",
            "< <\n",
            "= =\n",
            "> >\n",
            "? ?\n",
            "@ @\n",
            "A A\n",
            "B B\n",
            "C C\n",
            "D D\n",
            "E E\n",
            "F F\n",
            "G G\n",
            "H H\n",
            "I I\n",
            "J J\n",
            "K K\n",
            "L L\n",
            "M M\n",
            "N N\n",
            "O O\n",
            "P P\n",
            "Q Q\n",
            "R R\n",
            "S S\n",
            "T T\n",
            "U U\n",
            "V V\n",
            "W W\n",
            "X X\n",
            "Y Y\n",
            "Z Z\n",
            "[ [\n",
            "\\ \\\n",
            "] ]\n",
            "^ ^\n",
            "_ _\n",
            "` `\n",
            "a a\n",
            "b b\n",
            "c c\n",
            "d d\n",
            "e e\n",
            "f f\n",
            "g g\n",
            "h h\n",
            "i i\n",
            "j j\n",
            "k k\n",
            "l l\n",
            "m m\n",
            "n n\n",
            "o o\n",
            "p p\n",
            "q q\n",
            "r r\n",
            "s s\n",
            "t t\n",
            "u u\n",
            "v v\n",
            "w w\n",
            "x x\n",
            "y y\n",
            "z z\n",
            "{ {\n",
            "| |\n",
            "} }\n",
            "~ ~\n",
            "¡ �\n",
            "¢ �\n",
            "£ �\n",
            "¤ �\n",
            "¥ �\n",
            "¦ �\n",
            "§ �\n",
            "¨ �\n",
            "© �\n",
            "ª �\n",
            "« �\n",
            "¬ �\n",
            "® �\n",
            "¯ �\n",
            "° �\n",
            "± �\n",
            "² �\n",
            "³ �\n",
            "´ �\n",
            "µ �\n",
            "¶ �\n",
            "· �\n",
            "¸ �\n",
            "¹ �\n",
            "º �\n",
            "» �\n",
            "¼ �\n",
            "½ �\n",
            "¾ �\n",
            "¿ �\n",
            "À �\n",
            "Á �\n",
            "Â �\n",
            "Ã �\n",
            "Ä �\n",
            "Å �\n",
            "Æ �\n",
            "Ç �\n",
            "È �\n",
            "É �\n",
            "Ê �\n",
            "Ë �\n",
            "Ì �\n",
            "Í �\n",
            "Î �\n",
            "Ï �\n",
            "Ð �\n",
            "Ñ �\n",
            "Ò �\n",
            "Ó �\n",
            "Ô �\n",
            "Õ �\n",
            "Ö �\n",
            "× �\n",
            "Ø �\n",
            "Ù �\n",
            "Ú �\n",
            "Û �\n",
            "Ü �\n",
            "Ý �\n",
            "Þ �\n",
            "ß �\n",
            "à �\n",
            "á �\n",
            "â �\n",
            "ã �\n",
            "ä �\n",
            "å �\n",
            "æ �\n",
            "ç �\n",
            "è �\n",
            "é �\n",
            "ê �\n",
            "ë �\n",
            "ì �\n",
            "í �\n",
            "î �\n",
            "ï �\n",
            "ð �\n",
            "ñ �\n",
            "ò �\n",
            "ó �\n",
            "ô �\n",
            "õ �\n",
            "ö �\n",
            "÷ �\n",
            "ø �\n",
            "ù �\n",
            "ú �\n",
            "û �\n",
            "ü �\n",
            "ý �\n",
            "þ �\n",
            "ÿ �\n",
            "Ā \u0000\n",
            "ā \u0001\n",
            "Ă \u0002\n",
            "ă \u0003\n",
            "Ą \u0004\n",
            "ą \u0005\n",
            "Ć \u0006\n",
            "ć \u0007\n",
            "Ĉ \b\n",
            "ĉ \t\n",
            "Ċ \n",
            "\n",
            "ċ \u000b\n",
            "Č \f\n",
            "č \r\n",
            "Ď \u000e\n",
            "ď \u000f\n",
            "Đ \u0010\n",
            "đ \u0011\n",
            "Ē \u0012\n",
            "ē \u0013\n",
            "Ĕ \u0014\n",
            "ĕ \u0015\n",
            "Ė \u0016\n",
            "ė \u0017\n",
            "Ę \u0018\n",
            "ę \u0019\n",
            "Ě \u001a\n",
            "ě \u001b\n",
            "Ĝ \u001c\n",
            "ĝ \u001d\n",
            "Ğ \u001e\n",
            "ğ \u001f\n",
            "Ġ  \n",
            "ġ \n",
            "Ģ �\n",
            "ģ �\n",
            "Ĥ �\n",
            "ĥ �\n",
            "Ħ �\n",
            "ħ �\n",
            "Ĩ �\n",
            "ĩ �\n",
            "Ī �\n",
            "ī �\n",
            "Ĭ �\n",
            "ĭ �\n",
            "Į �\n",
            "į �\n",
            "İ �\n",
            "ı �\n",
            "Ĳ �\n",
            "ĳ �\n",
            "Ĵ �\n",
            "ĵ �\n",
            "Ķ �\n",
            "ķ �\n",
            "ĸ �\n",
            "Ĺ �\n",
            "ĺ �\n",
            "Ļ �\n",
            "ļ �\n",
            "Ľ �\n",
            "ľ �\n",
            "Ŀ �\n",
            "ŀ �\n",
            "Ł �\n",
            "ł �\n",
            "Ń �\n"
          ]
        }
      ]
    },
    {
      "cell_type": "code",
      "source": [],
      "metadata": {
        "id": "NvePbBvIxqre"
      },
      "execution_count": null,
      "outputs": []
    }
  ]
}